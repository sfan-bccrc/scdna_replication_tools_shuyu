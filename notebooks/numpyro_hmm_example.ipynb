{
 "cells": [
  {
   "cell_type": "code",
   "execution_count": 1,
   "id": "familiar-example",
   "metadata": {},
   "outputs": [],
   "source": [
    "import argparse\n",
    "import logging\n",
    "import os\n",
    "import time\n",
    "\n",
    "from jax import random\n",
    "import jax.numpy as jnp\n",
    "\n",
    "import numpyro\n",
    "from numpyro.contrib.control_flow import scan\n",
    "import numpyro.distributions as dist\n",
    "from numpyro.examples.datasets import JSB_CHORALES, load_dataset\n",
    "from numpyro.handlers import mask\n",
    "from numpyro.infer import HMC, MCMC, NUTS, SVI, Trace_ELBO, TraceGraph_ELBO\n",
    "from numpyro.ops.indexing import Vindex\n",
    "from numpyro.infer.autoguide import AutoDelta, AutoGuide\n",
    "from numpyro.optim import Adam\n",
    "from pyro import poutine\n",
    "\n",
    "logger = logging.getLogger(__name__)\n",
    "logger.setLevel(logging.INFO)\n",
    "\n",
    "rng_key = random.PRNGKey(0)"
   ]
  },
  {
   "cell_type": "code",
   "execution_count": 2,
   "id": "intensive-abuse",
   "metadata": {},
   "outputs": [
    {
     "name": "stderr",
     "output_type": "stream",
     "text": [
      "100%|██████████| 1000/1000 [00:00<00:00, 1210.06it/s, init loss: -6.3782, avg. loss [951-1000]: -6.5432]\n"
     ]
    }
   ],
   "source": [
    "def model():\n",
    "    with numpyro.handlers.block(), numpyro.handlers.seed(rng_seed=rng_key):\n",
    "        a = numpyro.sample('a', dist.Normal(0,1))\n",
    "    b = numpyro.sample('b', dist.Dirichlet(concentration=jnp.array([2., 3, 4, 5, 6])))\n",
    "\n",
    "optim = numpyro.optim.Adam(step_size=1e-3)\n",
    "elbo = Trace_ELBO()\n",
    "guide = AutoDelta(model)\n",
    "svi = SVI(model, guide, optim, elbo)\n",
    "svi_result = svi.run(rng_key, 1000)"
   ]
  },
  {
   "cell_type": "code",
   "execution_count": null,
   "id": "sorted-score",
   "metadata": {},
   "outputs": [],
   "source": []
  },
  {
   "cell_type": "code",
   "execution_count": null,
   "id": "rising-basketball",
   "metadata": {},
   "outputs": [],
   "source": []
  },
  {
   "cell_type": "code",
   "execution_count": 3,
   "id": "renewable-belly",
   "metadata": {},
   "outputs": [],
   "source": [
    "#     x[t-1] --> x[t] --> x[t+1]\n",
    "#        |        |         |\n",
    "#        V        V         V\n",
    "#     y[t-1]     y[t]     y[t+1]\n",
    "#\n",
    "# This model includes a plate for the data_dim = 44 keys on the piano. This\n",
    "# model has two \"style\" parameters probs_x and probs_y that we'll draw from a\n",
    "# prior. The latent state is x, and the observed state is y.\n",
    "def model_1(sequences, lengths, hidden_dim, include_prior=True):\n",
    "    num_sequences, max_length, data_dim = sequences.shape\n",
    "    with mask(mask=include_prior):\n",
    "        probs_x = numpyro.sample(\n",
    "            \"probs_x\", dist.Dirichlet(0.9 * jnp.eye(hidden_dim) + 0.1).to_event(1)\n",
    "        )\n",
    "        probs_y = numpyro.sample(\n",
    "            \"probs_y\",\n",
    "            dist.Beta(0.1, 0.9).expand([hidden_dim, data_dim]).to_event(2),\n",
    "        )\n",
    "\n",
    "    def transition_fn(carry, y):\n",
    "        x_prev, t = carry\n",
    "        with numpyro.plate(\"sequences\", num_sequences, dim=-2):\n",
    "            with mask(mask=(t < lengths)[..., None]):\n",
    "                with numpyro.handlers.block(), numpyro.handlers.seed(rng_seed=rng_key):\n",
    "                    x = numpyro.sample(\n",
    "                        \"x\",\n",
    "                        dist.Categorical(probs_x[x_prev]),\n",
    "                        infer={\"enumerate\": \"parallel\"},\n",
    "                    )\n",
    "                    with numpyro.plate(\"tones\", data_dim, dim=-1):\n",
    "                        numpyro.sample(\"y\", dist.Bernoulli(probs_y[x.squeeze(-1)]), obs=y)\n",
    "        return (x, t + 1), None\n",
    "\n",
    "    x_init = jnp.zeros((num_sequences, 1), dtype=jnp.int32)\n",
    "    # NB swapaxes: we move time dimension of `sequences` to the front to scan over it\n",
    "    scan(transition_fn, (x_init, 0), jnp.swapaxes(sequences, 0, 1))"
   ]
  },
  {
   "cell_type": "code",
   "execution_count": 4,
   "id": "municipal-jerusalem",
   "metadata": {},
   "outputs": [],
   "source": [
    "\n",
    "def main(num_samples=1000, hidden_dim=16, truncate=None, num_sequences=None,\n",
    "         kernel='nuts', num_warmup=500, num_chains=1, device='cpu'):\n",
    "\n",
    "    model = model_1\n",
    "    \n",
    "    numpyro.set_platform(device)\n",
    "\n",
    "    _, fetch = load_dataset(JSB_CHORALES, split=\"train\", shuffle=False)\n",
    "    lengths, sequences = fetch()\n",
    "    if num_sequences:\n",
    "        sequences = sequences[0 : num_sequences]\n",
    "        lengths = lengths[0 : num_sequences]\n",
    "\n",
    "    logger.info(\"-\" * 40)\n",
    "    logger.info(\"Training {} on {} sequences\".format(model.__name__, len(sequences)))\n",
    "\n",
    "    # find all the notes that are present at least once in the training set\n",
    "    present_notes = (sequences == 1).sum(0).sum(0) > 0\n",
    "    # remove notes that are never played (we remove 37/88 notes with default args)\n",
    "    sequences = sequences[:, :, present_notes]\n",
    "\n",
    "    if truncate:\n",
    "        lengths = lengths.clip(0, truncate)\n",
    "        sequences = sequences[:, : truncate]\n",
    "\n",
    "    logger.info(\"Each sequence has shape {}\".format(sequences[0].shape))\n",
    "    logger.info(\"Starting inference...\")\n",
    "\n",
    "    optim = Adam(step_size=1e-3)\n",
    "    elbo = TraceGraph_ELBO()\n",
    "    guide = AutoDelta(model)\n",
    "\n",
    "    svi = SVI(model, guide, optim, loss=elbo)\n",
    "    start = time.time()\n",
    "    svi_result = svi.run(rng_key, 25, sequences, lengths, hidden_dim)\n",
    "    logger.info(\"\\nSVI elapsed time: {}\".format(time.time() - start))\n",
    "\n"
   ]
  },
  {
   "cell_type": "code",
   "execution_count": 5,
   "id": "another-belize",
   "metadata": {
    "scrolled": false
   },
   "outputs": [
    {
     "name": "stderr",
     "output_type": "stream",
     "text": [
      "INFO:__main__:----------------------------------------\n",
      "INFO:__main__:Training model_1 on 229 sequences\n",
      "INFO:__main__:Each sequence has shape (129, 51)\n",
      "INFO:__main__:Starting inference...\n",
      "100%|██████████| 25/25 [00:01<00:00, 18.15it/s, init loss: -4447.4497, avg. loss [25-25]: -4470.7266]\n",
      "INFO:__main__:\n",
      "SVI elapsed time: 7.64436674118042\n"
     ]
    }
   ],
   "source": [
    "main()"
   ]
  },
  {
   "cell_type": "code",
   "execution_count": null,
   "id": "ranging-tribe",
   "metadata": {},
   "outputs": [],
   "source": []
  },
  {
   "cell_type": "code",
   "execution_count": 6,
   "id": "cognitive-entertainment",
   "metadata": {},
   "outputs": [
    {
     "data": {
      "text/plain": [
       "<Figure size 640x480 with 1 Axes>"
      ]
     },
     "metadata": {},
     "output_type": "display_data"
    },
    {
     "data": {
      "text/plain": [
       "<Figure size 640x480 with 1 Axes>"
      ]
     },
     "metadata": {},
     "output_type": "display_data"
    }
   ],
   "source": [
    "import numpy as np\n",
    "import pandas as pd\n",
    "import matplotlib.pyplot as plt\n",
    "\n",
    "T = 500\n",
    "N = 10\n",
    "\n",
    "phi = 0.9\n",
    "sigma_x = 0.03\n",
    "sigma_y = 0.1\n",
    "\n",
    "np.random.seed(42)\n",
    "\n",
    "e = np.random.normal(size=T, scale=sigma_x)\n",
    "\n",
    "x = np.empty(T)\n",
    "\n",
    "x[0] = e[0]\n",
    "for t in range(1, T):\n",
    "    x[t] = x[t - 1] * phi + e[t]\n",
    "    \n",
    "y = x + np.random.normal(size=(N, T), scale=sigma_y)\n",
    "\n",
    "pd.Series(y.mean(0)).plot()\n",
    "plt.show()\n",
    "pd.Series(x).plot()\n",
    "plt.show()"
   ]
  },
  {
   "cell_type": "code",
   "execution_count": 7,
   "id": "turned-intensity",
   "metadata": {},
   "outputs": [
    {
     "name": "stderr",
     "output_type": "stream",
     "text": [
      "100%|██████████| 10000/10000 [00:09<00:00, 1004.66it/s, init loss: 9151.4316, avg. loss [9501-10000]: -4105.5483]\n"
     ]
    },
    {
     "name": "stdout",
     "output_type": "stream",
     "text": [
      "0.573861\n",
      "0.039156593\n",
      "0.09995778\n"
     ]
    }
   ],
   "source": [
    "import jax\n",
    "\n",
    "def model(y):\n",
    "    \n",
    "    N, T = y.shape\n",
    "    \n",
    "    phi = numpyro.param('phi', jnp.array(0.0))\n",
    "    sigma_x = numpyro.param('sigma_x', jnp.array(1.0), constraint=dist.constraints.positive)\n",
    "    sigma_y = numpyro.param('sigma_y', jnp.array(1.0), constraint=dist.constraints.positive)\n",
    "    \n",
    "    def transition(x, e):\n",
    "        x_new = x * phi + e\n",
    "        return x_new, x_new\n",
    "    \n",
    "    x0 = numpyro.sample('x0', dist.Normal(np.zeros(1), sigma_x))\n",
    "    e = numpyro.sample('e', dist.Normal(np.zeros(T), sigma_x))\n",
    "    _, x = jax.lax.scan(transition, x0, e)\n",
    "    numpyro.deterministic('x', x)\n",
    "    numpyro.sample('obs', dist.Normal(x.squeeze(-1), sigma_y), obs=y)\n",
    "\n",
    "y_jax = jnp.array(y)\n",
    "\n",
    "guide = numpyro.infer.autoguide.AutoNormal(model)\n",
    "optim = numpyro.optim.Adam(step_size=0.002)\n",
    "svi = numpyro.infer.SVI(model, guide, optim, loss=numpyro.infer.Trace_ELBO())\n",
    "svi_result = svi.run(jax.random.PRNGKey(0), 10000, y_jax)\n",
    "\n",
    "params = svi_result.params\n",
    "guide_samples = guide.sample_posterior(jax.random.PRNGKey(1), svi_result.params)\n",
    "\n",
    "print(params['phi'])\n",
    "print(params['sigma_x'])\n",
    "print(params['sigma_y'])"
   ]
  },
  {
   "cell_type": "code",
   "execution_count": 8,
   "id": "ancient-glossary",
   "metadata": {},
   "outputs": [
    {
     "data": {
      "image/png": "[encoded data removed]",
      "text/plain": [
       "<Figure size 432x288 with 1 Axes>"
      ]
     },
     "metadata": {
      "needs_background": "light"
     },
     "output_type": "display_data"
    }
   ],
   "source": [
    "plt.plot(range(len(svi_result.losses)), svi_result.losses)\n",
    "plt.xlabel('iter')\n",
    "plt.ylabel('loss')\n",
    "plt.show()"
   ]
  },
  {
   "cell_type": "code",
   "execution_count": null,
   "id": "thirty-communications",
   "metadata": {},
   "outputs": [],
   "source": []
  }
 ],
 "metadata": {
  "kernelspec": {
   "display_name": "Python 3",
   "language": "python",
   "name": "python3"
  },
  "language_info": {
   "codemirror_mode": {
    "name": "ipython",
    "version": 3
   },
   "file_extension": ".py",
   "mimetype": "text/x-python",
   "name": "python",
   "nbconvert_exporter": "python",
   "pygments_lexer": "ipython3",
   "version": "3.7.4"
  }
 },
 "nbformat": 4,
 "nbformat_minor": 5
}
