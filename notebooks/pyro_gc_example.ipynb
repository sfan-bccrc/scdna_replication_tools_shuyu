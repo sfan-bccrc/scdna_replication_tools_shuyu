{
 "cells": [
  {
   "cell_type": "code",
   "execution_count": 1,
   "id": "d9da3e2c",
   "metadata": {},
   "outputs": [],
   "source": [
    "\n",
    "import os\n",
    "import torch\n",
    "import numpy as np\n",
    "import seaborn as sns\n",
    "import scipy.stats\n",
    "from collections import defaultdict\n",
    "from torch.distributions import constraints\n",
    "\n",
    "import pyro\n",
    "import pyro.distributions as dist\n",
    "\n",
    "from pyro import poutine\n",
    "from pyro.infer.autoguide import AutoDelta\n",
    "from pyro.optim import Adam\n",
    "from pyro.infer import SVI, TraceEnum_ELBO, config_enumerate, infer_discrete\n"
   ]
  },
  {
   "cell_type": "code",
   "execution_count": 2,
   "id": "6d7e33d8",
   "metadata": {},
   "outputs": [
    {
     "data": {
      "text/plain": [
       "[<matplotlib.lines.Line2D at 0x2afe59f56b38>]"
      ]
     },
     "execution_count": 2,
     "metadata": {},
     "output_type": "execute_result"
    },
    {
     "data": {
      "image/png": "[encoded data removed]",
      "text/plain": [
       "<Figure size 432x288 with 1 Axes>"
      ]
     },
     "metadata": {
      "needs_background": "light"
     },
     "output_type": "display_data"
    }
   ],
   "source": [
    "\n",
    "import numpy as np\n",
    "import matplotlib.pyplot as plt\n",
    "\n",
    "gc = np.linspace(0, 1, 101)\n",
    "\n",
    "# Hand built polynomial\n",
    "betas = np.array([0.1, 0.2, -1, 1, -0.25]) * 100.\n",
    "\n",
    "p1d = np.poly1d(betas)\n",
    "\n",
    "mean = np.exp(p1d(gc))\n",
    "\n",
    "plt.plot(gc, mean)\n"
   ]
  },
  {
   "cell_type": "code",
   "execution_count": 3,
   "id": "998d11ed",
   "metadata": {},
   "outputs": [],
   "source": [
    "\n",
    "\n",
    "def make_features(x, poly_degree=4):\n",
    "    \"\"\"Builds features i.e. a matrix with columns [x, x^2, x^3, x^4].\"\"\"\n",
    "    x = x.unsqueeze(1)\n",
    "    return torch.cat([x ** i for i in reversed(range(0, poly_degree+1))], 1)\n",
    "\n",
    "\n",
    "def model_GC(data=None, n_data=None, poly_degree=4):\n",
    "    assert (n_data is None) != (data is None)\n",
    "\n",
    "    if data is not None:\n",
    "        n_data = data.shape[0]\n",
    "\n",
    "    # Sample betas from a normal\n",
    "    betas = pyro.sample('betas', dist.Normal(0., 1.).expand([poly_degree+1]).to_event(1))\n",
    "\n",
    "    with pyro.plate('n_data', n_data):\n",
    "        # Sample some gc values from 0 to 1\n",
    "        gc = pyro.sample('gc', dist.Beta(torch.tensor([1.]), torch.tensor([1.])))\n",
    "\n",
    "        gc_features = make_features(gc, poly_degree=poly_degree)\n",
    "\n",
    "        rate = torch.exp(torch.sum(betas * gc_features, 1))\n",
    "\n",
    "        pyro.sample('counts', dist.Poisson(rate), obs=data)\n",
    "\n"
   ]
  },
  {
   "cell_type": "code",
   "execution_count": 4,
   "id": "1c5c2fe7",
   "metadata": {},
   "outputs": [
    {
     "name": "stderr",
     "output_type": "stream",
     "text": [
      "/juno/work/shah/users/mcphera1/repos/dlpanalysis/noisybins/venv/lib/python3.7/site-packages/seaborn/_decorators.py:43: FutureWarning: Pass the following variables as keyword args: x, y. From version 0.12, the only valid positional argument will be `data`, and passing other arguments without an explicit keyword will result in an error or misinterpretation.\n",
      "  FutureWarning\n"
     ]
    },
    {
     "data": {
      "text/plain": [
       "<AxesSubplot:>"
      ]
     },
     "execution_count": 4,
     "metadata": {},
     "output_type": "execute_result"
    },
    {
     "data": {
      "image/png": "[encoded data removed]",
      "text/plain": [
       "<Figure size 432x288 with 1 Axes>"
      ]
     },
     "metadata": {
      "needs_background": "light"
     },
     "output_type": "display_data"
    }
   ],
   "source": [
    "\n",
    "pyro.clear_param_store()\n",
    "\n",
    "conditioned_model = poutine.condition(\n",
    "    model_GC,\n",
    "    data={\n",
    "#         'gc': torch.tensor([0.1, 0.5, 0.3]),\n",
    "        'betas': torch.tensor((np.array([0.1, 0.2, -1, 1, -0.25]) * 100.).astype(np.float32))\n",
    "#         'betas': torch.tensor([-5.9305, -3.2150,  5.8977, 10.0505, -2.3108]),\n",
    "    })\n",
    "\n",
    "model_trace = pyro.poutine.trace(conditioned_model)\n",
    "\n",
    "samples = model_trace.get_trace(n_data=100)\n",
    "\n",
    "gc = samples.nodes['gc']['value']\n",
    "counts = samples.nodes['counts']['value']\n",
    "\n",
    "sns.scatterplot(gc, counts)\n"
   ]
  },
  {
   "cell_type": "code",
   "execution_count": 5,
   "id": "dd6c7f10",
   "metadata": {},
   "outputs": [],
   "source": [
    "\n",
    "optim = pyro.optim.Adam({'lr': 0.01, 'betas': [0.8, 0.99]})\n",
    "elbo = TraceEnum_ELBO(max_plate_nesting=2)\n"
   ]
  },
  {
   "cell_type": "code",
   "execution_count": 6,
   "id": "81871581",
   "metadata": {},
   "outputs": [],
   "source": [
    "\n",
    "conditioned_model = poutine.condition(\n",
    "    model_GC,\n",
    "    data={\n",
    "# Uncomment to condition on various hidden variables\n",
    "        'gc': gc,\n",
    "#         'betas': betas,\n",
    "    })\n",
    "\n",
    "guide = AutoDelta(\n",
    "    poutine.block(conditioned_model, expose=['betas']),\n",
    ")\n",
    "svi = SVI(conditioned_model, guide, optim, loss=elbo)\n"
   ]
  },
  {
   "cell_type": "code",
   "execution_count": 7,
   "id": "e433048e",
   "metadata": {
    "scrolled": false
   },
   "outputs": [
    {
     "name": "stderr",
     "output_type": "stream",
     "text": [
      "/juno/work/shah/users/mcphera1/repos/dlpanalysis/noisybins/venv/lib/python3.7/site-packages/pyro/infer/traceenum_elbo.py:356: UserWarning: TraceEnum_ELBO found no sample sites configured for enumeration. If you want to enumerate sites, you need to @config_enumerate or set infer={\"enumerate\": \"sequential\"} or infer={\"enumerate\": \"parallel\"}? If you do not want to enumerate, consider using Trace_ELBO instead.\n",
      "  \"TraceEnum_ELBO found no sample sites configured for enumeration. \"\n"
     ]
    },
    {
     "data": {
      "text/plain": [
       "47870.0859375"
      ]
     },
     "execution_count": 7,
     "metadata": {},
     "output_type": "execute_result"
    }
   ],
   "source": [
    "\n",
    "# Calculate initial loss\n",
    "\n",
    "pyro.clear_param_store()\n",
    "\n",
    "elbo.loss(conditioned_model, guide, data=counts, poly_degree=4)\n"
   ]
  },
  {
   "cell_type": "code",
   "execution_count": 8,
   "id": "7ec5c2f7",
   "metadata": {},
   "outputs": [
    {
     "name": "stdout",
     "output_type": "stream",
     "text": [
      "\n",
      "...............................................................................\n",
      "...............................................................................\n",
      "...............................................................................\n",
      "...............................................................................\n",
      "...............................................................................\n",
      "...............................................................................\n",
      "...............................................................................\n",
      "...............................................................................\n",
      "...............................................................................\n",
      "...............................................................................\n",
      "...............................................................................\n",
      "...............................................................................\n",
      "...............................................................................\n",
      "...............................................................................\n",
      "...............................................................................\n",
      "...............................................................................\n",
      "...............................................................................\n",
      "...............................................................................\n",
      "...............................................................................\n",
      "...............................................................................\n",
      "...............................................................................\n",
      "...............................................................................\n",
      "...............................................................................\n",
      "...............................................................................\n",
      "..............................................................................."
     ]
    }
   ],
   "source": [
    "\n",
    "# Learn the model and guide params\n",
    "\n",
    "pyro.clear_param_store()\n",
    "\n",
    "losses = []\n",
    "for i in range(2000):\n",
    "    loss = svi.step(data=counts, poly_degree=4)\n",
    "    losses.append(loss)\n",
    "    print('.' if i % 80 else '\\n', end='')\n"
   ]
  },
  {
   "cell_type": "code",
   "execution_count": 9,
   "id": "17bf5b70",
   "metadata": {},
   "outputs": [
    {
     "data": {
      "image/png": "[encoded data removed]",
      "text/plain": [
       "<Figure size 1000x300 with 1 Axes>"
      ]
     },
     "metadata": {},
     "output_type": "display_data"
    }
   ],
   "source": [
    "\n",
    "plt.figure(figsize=(10,3), dpi=100).set_facecolor('white')\n",
    "plt.plot(losses)\n",
    "plt.xlabel('iters')\n",
    "plt.ylabel('loss')\n",
    "plt.yscale('log')\n",
    "plt.title('Convergence of SVI');\n"
   ]
  },
  {
   "cell_type": "code",
   "execution_count": 10,
   "id": "5c372df7",
   "metadata": {},
   "outputs": [
    {
     "name": "stdout",
     "output_type": "stream",
     "text": [
      "AutoDelta.betas Parameter containing:\n",
      "tensor([-5.7119, -2.8471,  5.5616,  9.4928, -1.9136], requires_grad=True)\n"
     ]
    }
   ],
   "source": [
    "\n",
    "for k in pyro.get_param_store():\n",
    "    print(k, pyro.get_param_store()[k])\n"
   ]
  },
  {
   "cell_type": "code",
   "execution_count": 11,
   "id": "b8fe3a00",
   "metadata": {},
   "outputs": [
    {
     "data": {
      "text/plain": [
       "array([  10.,   20., -100.,  100.,  -25.])"
      ]
     },
     "execution_count": 11,
     "metadata": {},
     "output_type": "execute_result"
    }
   ],
   "source": [
    "\n",
    "(np.array([0.1, 0.2, -1, 1, -0.25]) * 100.)\n"
   ]
  },
  {
   "cell_type": "code",
   "execution_count": null,
   "id": "a2ca4bc7",
   "metadata": {},
   "outputs": [],
   "source": []
  }
 ],
 "metadata": {
  "kernelspec": {
   "display_name": "Python 3 (ipykernel)",
   "language": "python",
   "name": "python3"
  },
  "language_info": {
   "codemirror_mode": {
    "name": "ipython",
    "version": 3
   },
   "file_extension": ".py",
   "mimetype": "text/x-python",
   "name": "python",
   "nbconvert_exporter": "python",
   "pygments_lexer": "ipython3",
   "version": "3.7.3"
  }
 },
 "nbformat": 4,
 "nbformat_minor": 5
}
